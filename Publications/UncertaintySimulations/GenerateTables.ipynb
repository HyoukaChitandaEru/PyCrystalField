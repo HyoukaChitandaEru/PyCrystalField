{
 "cells": [
  {
   "cell_type": "markdown",
   "metadata": {},
   "source": [
    "# Generate Tables"
   ]
  },
  {
   "cell_type": "code",
   "execution_count": 1,
   "metadata": {},
   "outputs": [],
   "source": [
    "%matplotlib notebook\n",
    "import numpy as np\n",
    "import matplotlib.pyplot as plt\n",
    "from Uncertainty import *\n",
    "from copy import deepcopy\n",
    "import glob"
   ]
  },
  {
   "cell_type": "code",
   "execution_count": 2,
   "metadata": {},
   "outputs": [],
   "source": [
    "class output:\n",
    "    def __init__(self, infile):\n",
    "        with open(infile) as f:\n",
    "            lines = f.readlines()\n",
    "            i = 0\n",
    "            while i < len(lines):\n",
    "                if lines[i].startswith('#### CEF parameters'):\n",
    "                    self.CEF = ' '.join(lines[i+1:i+4])\n",
    "                elif lines[i].startswith('#### G-tensor'):\n",
    "                    self.G = lines[i+1:i+4]\n",
    "                elif lines[i].startswith('#### best fit Eigenvalues'):\n",
    "                    i+= 1\n",
    "                    ii = deepcopy(i)\n",
    "                    while not lines[i].startswith('\\n'):\n",
    "                        i += 1\n",
    "                    self.Eigenvalues = ' '.join(lines[ii:i])\n",
    "                elif lines[i].startswith('#### Ground State Ket'):\n",
    "                    self.GSKet = lines[i+1]\n",
    "                i += 1\n",
    "        for i in range(3):\n",
    "            self.G[i] = self.G[i].strip('\\n')\n",
    "            if 'begin' in self.G[i]:\n",
    "                self.G[i] = ' '"
   ]
  },
  {
   "cell_type": "markdown",
   "metadata": {},
   "source": [
    "# Pyrochlore"
   ]
  },
  {
   "cell_type": "code",
   "execution_count": 3,
   "metadata": {},
   "outputs": [],
   "source": [
    "tablefile = 'paperfigures/tables/PyrochloreTable.tex'\n",
    "\n",
    "## Import file names\n",
    "filez = {}\n",
    "for file in glob.glob(\"Pyrochlore/ProcessedOutput/*3_results.txt\"):\n",
    "    ion = file.split('/')[-1][:2]\n",
    "    filez[ion] = file\n",
    "## Sort file names\n",
    "ions = ['Sm','Nd','Ce','Dy','Ho','Tm','Pr','Er','Tb','Yb']\n",
    "\n",
    "with open(tablefile, 'w') as fo:\n",
    "    print('\\\\begin{table*}\\n\\\\caption{Output...}',file=fo)\n",
    "    print('\\\\begin{ruledtabular}',file=fo)\n",
    "    print('\\\\begin{tabular}{c|rl|c|c}',file=fo)\n",
    "    print('Compound & & ground state & $g_{xx}$ & $g_{zz}$'\n",
    "            +' \\\\tabularnewline\\n \\\\hline ',file=fo)\n",
    "    \n",
    "    ### Loop through all files\n",
    "    for ion in ions:\n",
    "        file = filez[ion]\n",
    "        compoundname = '$\\\\rm '+ion+'_2Ti_2O_7$'\n",
    "\n",
    "        YTO = output(file)\n",
    "        ket1, ket2 = YTO.GSKet.split(',')\n",
    "        print(compoundname,'&$','=$ &$'.join(ket1.strip('\\n').split('=')),\n",
    "              '$&$',YTO.G[0],'$&$',\n",
    "              YTO.G[2],'$ \\\\tabularnewline',file=fo)\n",
    "        print(' & $','=$ &$'.join(ket2.strip('\\n').split('=')),'$ & &', '\\\\tabularnewline',file=fo)\n",
    "    \n",
    "    print('\\\\end{tabular}\\\\end{ruledtabular}',file=fo)\n",
    "    print('\\\\label{flo:Eigenvectors}\\n\\\\end{table*}',file=fo)"
   ]
  },
  {
   "cell_type": "code",
   "execution_count": 4,
   "metadata": {},
   "outputs": [],
   "source": [
    "tablefile = 'paperfigures/tables/DelafossiteTable.tex'\n",
    "\n",
    "## Import file names\n",
    "filez = {}\n",
    "for file in glob.glob(\"Delafossite/ProcessedOutput/*3_results.txt\"):\n",
    "    ion = file.split('/')[-1][:2]\n",
    "    filez[ion] = file\n",
    "## Sort file names\n",
    "ions = ['Sm','Nd','Ce','Dy','Ho','Tm','Pr','Er','Tb','Yb']\n",
    "\n",
    "with open(tablefile, 'w') as fo:\n",
    "    print('\\\\begin{table*}\\n\\\\caption{Output...}',file=fo)\n",
    "    print('\\\\begin{ruledtabular}',file=fo)\n",
    "    print('\\\\begin{tabular}{c|rl|c|c}',file=fo)\n",
    "    print('Compound & & ground state & $g_{xx}$ & $g_{zz}$'\n",
    "            +' \\\\tabularnewline\\n \\\\hline ',file=fo)\n",
    "    \n",
    "    ### Loop through all files\n",
    "    for ion in ions:\n",
    "        file = filez[ion]\n",
    "        compoundname = '$\\\\rm K'+ion+'Se_2$'\n",
    "\n",
    "        YTO = output(file)\n",
    "        ket1, ket2 = YTO.GSKet.split(',')\n",
    "        print(compoundname,'&$','=$ &$'.join(ket1.strip('\\n').split('=')),\n",
    "              '$&$',YTO.G[0],'$&$',\n",
    "              YTO.G[2],'$ \\\\tabularnewline',file=fo)\n",
    "        print(' & $','=$ &$'.join(ket2.strip('\\n').split('=')),'$ & &', '\\\\tabularnewline',file=fo)\n",
    "    \n",
    "    print('\\\\end{tabular}\\\\end{ruledtabular}',file=fo)\n",
    "    print('\\\\label{flo:Eigenvectors}\\n\\\\end{table*}',file=fo)"
   ]
  },
  {
   "cell_type": "code",
   "execution_count": null,
   "metadata": {},
   "outputs": [],
   "source": []
  }
 ],
 "metadata": {
  "kernelspec": {
   "display_name": "Python 3",
   "language": "python",
   "name": "python3"
  },
  "language_info": {
   "codemirror_mode": {
    "name": "ipython",
    "version": 3
   },
   "file_extension": ".py",
   "mimetype": "text/x-python",
   "name": "python",
   "nbconvert_exporter": "python",
   "pygments_lexer": "ipython3",
   "version": "3.7.3"
  }
 },
 "nbformat": 4,
 "nbformat_minor": 2
}
