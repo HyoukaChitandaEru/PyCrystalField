{
 "cells": [
  {
   "cell_type": "markdown",
   "metadata": {},
   "source": [
    "# Susceptibility and Crystal Field Levels of tetrahedral and octahedral Ni$^{2+}$\n",
    "\n",
    "Allen Scheie\n",
    "\n",
    "March, 2018"
   ]
  },
  {
   "cell_type": "markdown",
   "metadata": {},
   "source": [
    "## Theory\n",
    "\n",
    "Let us assume that Ni$^{2+}$ is in the intermediate scheme where crystal field acts on the $L_s$ term.\n",
    "\n",
    "The free Ni$^{2+}$ ion has 8 valence electrons in the $3d$ state. We immediately know that we can neglect all terms above $n=4$.\n",
    "From Hund's Rules, we know that (for the free ion), $S=1$, $L=3$, and $J=4$. But we're in the intermediate scheme, so the crystal field acts on $L$ (spin orbit comes in as a perturbation)."
   ]
  },
  {
   "cell_type": "markdown",
   "metadata": {},
   "source": [
    "### What this code does\n",
    "- Calculates the single-ion Hamiltonian of Ni$^{2+}$ in the intermediate coupling scheme\n",
    "- prints the eigenvectors and eigenvalues in LaTex tables\n",
    "- Takes the calculated CEF parameters and rescales them to be in the weak coupling scheme (operating on $l$, not $L$).\n"
   ]
  },
  {
   "cell_type": "code",
   "execution_count": 1,
   "metadata": {
    "collapsed": true
   },
   "outputs": [],
   "source": [
    "# Import libraries\n",
    "%matplotlib notebook\n",
    "import numpy as np\n",
    "import matplotlib.pyplot as plt\n",
    "import PyCrystalField as cef\n"
   ]
  },
  {
   "cell_type": "code",
   "execution_count": 2,
   "metadata": {},
   "outputs": [
    {
     "name": "stdout",
     "output_type": "stream",
     "text": [
      "B_2 0  =  -6.43645064\n",
      "B_2 1  =  -0.00025212\n",
      "B_2 2  =  0.00016949\n",
      "B_4 0  =  0.3515363\n",
      "B_4 1  =  1.026e-05\n",
      "B_4 2  =  3.81e-06\n",
      "B_4 3  =  8.64777253\n",
      "B_4 4  =  -9.5e-07\n",
      "\n",
      "Octahedral:   [   0.    32.8   37.8   37.8   92.8   92.8  151.4  157.6  157.6  284.2\n",
      "  320.1  320.1  393.2  398.2  398.2  430.8  430.8  438.1  696.4  696.4\n",
      "  713.5]\n",
      "Tetrahedral:  [   0.     0.    11.8  144.   151.2  151.2  192.7  192.7  243.6  267.8\n",
      "  281.4  281.4  285.4  365.1  365.1  370.3  454.2  454.2  512.8  512.8\n",
      "  513.8]\n",
      "SOC:  -40.170878532\n"
     ]
    }
   ],
   "source": [
    "### Generate stevens operators with cef package\n",
    "ion = 'Ni2+'\n",
    "ionL = 3\n",
    "ionS = 1\n",
    "\n",
    "# Generate CEF Hamiltonian from point charge model\n",
    "\n",
    "NiPosOct = np.array([0.66667,  0.33333,  0.01160])\n",
    "NiPosTet = np.array([0.33333,  0.66667, -0.05200])\n",
    "\n",
    "OposOct = np.array([[0.83120,  0.66240,  0.13420],\n",
    "\t[0.83120,  0.16880,  0.13420],\n",
    "\t[0.33760,  0.16880,  0.13420],\n",
    "\t[0.97600,  0.48800, -0.13410],\n",
    "\t[0.51200,  0.48800, -0.13410],\n",
    "\t[0.51200,  0.02400, -0.13410]])\n",
    "SymEquivOOct = [0,0,0,0,0,0]\n",
    "\n",
    "OposTet = np.array([[0.33333,  0.66667,  0.14610],\n",
    "\t[-0.02400,  0.48800, -0.13410],\n",
    "\t[0.51200,  0.48800, -0.13410],\n",
    "\t[0.51200,  1.02400, -0.13410]])\n",
    "SymEquivOTet = [0,0,0,0]\n",
    "\n",
    "Ocharges = [2]\n",
    "\n",
    "hc = 1.23984193e-1 #meV*cm\n",
    "SpinOrbitCoupling = -324 * hc  #from Abragam and Bleaney, p. 399\n",
    "\n",
    "r2 = 1.130 #m  this is from Abragam and blaney, Table 7.6\n",
    "r4 = 3.003 #m  this is from Abragam and blaney, Table 7.6\n",
    "\n",
    "NiLigOct = cef.LS_Ligands(ion = [ionS, ionL],\n",
    "    latticeParams=[5.745252,   5.745252 ,  9.859839,  90.0,  90.0, 120.0],\n",
    "    ionPos= NiPosOct, ligandPos=OposOct, SpinOrbitCoupling = SpinOrbitCoupling)\n",
    "\n",
    "NiLigTet = cef.LS_Ligands(ion = [ionS, ionL],\n",
    "    latticeParams=[5.745252,   5.745252 ,  9.859839,  90.0,  90.0, 120.0],\n",
    "    ionPos= NiPosTet, ligandPos=OposTet, SpinOrbitCoupling = SpinOrbitCoupling)\n",
    "\n",
    "#**********\n",
    "# Rotate ligands to make the axes aligned with a symmetry axis\n",
    "NiLigOct.rotateLigandsZ(oldaxis=NiLigOct.bonds[3])\n",
    "\n",
    "NiOct = NiLigOct.TMPointChargeModel( RadialIntegrals={2:r2, 4:r4}, halffilled=True,\n",
    "   symequiv=SymEquivOOct,  LigandCharge=Ocharges, \n",
    "                                    printB = True, suppressminusm=True)  #minusm doesn't make difference here\n",
    "NiOct.diagonalize()\n",
    "print('\\nOctahedral:  ', np.around(NiOct.eigenvalues,1))\n",
    "\n",
    "\n",
    "NiLigTet.rotateLigandsZ(oldaxis=NiLigTet.bonds[3])\n",
    "\n",
    "NiTet = NiLigTet.TMPointChargeModel( RadialIntegrals={2:r2, 4:r4}, halffilled=True,\n",
    "     symequiv=SymEquivOTet,  LigandCharge=Ocharges, \n",
    "                                    printB = False, suppressminusm=True)\n",
    "NiTet.diagonalize()\n",
    "print('Tetrahedral: ',np.around(NiTet.eigenvalues,1))\n",
    "\n",
    "print('SOC: ', SpinOrbitCoupling)\n"
   ]
  },
  {
   "cell_type": "markdown",
   "metadata": {},
   "source": [
    "# Print intermediate coupling results:"
   ]
  },
  {
   "cell_type": "code",
   "execution_count": 3,
   "metadata": {},
   "outputs": [
    {
     "name": "stdout",
     "output_type": "stream",
     "text": [
      "\\begin{table*}\n",
      "\\begin{landscape}\n",
      "\\centering\n",
      "\\caption{Eigenvectors and Eigenvalues... $|L,S\\rangle$}\n",
      "\\begin{ruledtabular}\n",
      "\\begin{tabular}{c|ccccccccccccccccccccc}\n",
      "E (meV) &$|$-3,-1$\\rangle$ & $|$-3,0$\\rangle$ & $|$-3,1$\\rangle$ & $|$-2,-1$\\rangle$ & $|$-2,0$\\rangle$ & $|$-2,1$\\rangle$ & $|$-1,-1$\\rangle$ & $|$-1,0$\\rangle$ & $|$-1,1$\\rangle$ & $|$0,-1$\\rangle$ & $|$0,0$\\rangle$ & $|$0,1$\\rangle$ & $|$1,-1$\\rangle$ & $|$1,0$\\rangle$ & $|$1,1$\\rangle$ & $|$2,-1$\\rangle$ & $|$2,0$\\rangle$ & $|$2,1$\\rangle$ & $|$3,-1$\\rangle$ & $|$3,0$\\rangle$ & $|$3,1$\\rangle$ \\tabularnewline\n",
      " \\hline \n",
      "0.000 & -0.551 & -0.0 & -0.159 & -0.0 & -0.066 & -0.031 & -0.016 & -0.149 & -0.0 & -0.379 & 0.0 & -0.379 & 0.0 & -0.149 & 0.016 & -0.031 & 0.066 & -0.0 & 0.159 & -0.0 & 0.551 \\tabularnewline\n",
      "0.000 & 0.551 & 0.0 & -0.159 & 0.0 & -0.066 & 0.031 & -0.016 & 0.149 & 0.0 & 0.379 & 0.0 & -0.379 & 0.0 & -0.149 & -0.016 & -0.031 & -0.066 & -0.0 & -0.159 & -0.0 & 0.551 \\tabularnewline\n",
      "11.840 & 0.0 & -0.468 & -0.0 & -0.201 & -0.0 & -0.0 & -0.0 & 0.0 & -0.224 & 0.0 & -0.617 & -0.0 & -0.224 & -0.0 & -0.0 & 0.0 & -0.0 & 0.201 & -0.0 & 0.468 & 0.0 \\tabularnewline\n",
      "144.040 & 0.0 & -0.516 & -0.0 & -0.462 & -0.0 & -0.0 & -0.0 & -0.0 & 0.142 & -0.0 & 0.0 & -0.0 & -0.142 & -0.0 & 0.0 & -0.0 & 0.0 & -0.462 & 0.0 & -0.516 & -0.0 \\tabularnewline\n",
      "151.170 & 0.322 & 0.0 & -0.263 & 0.0 & -0.363 & -0.032 & -0.294 & -0.282 & -0.0 & -0.168 & 0.0 & -0.168 & 0.0 & -0.282 & 0.294 & -0.032 & 0.363 & 0.0 & 0.263 & 0.0 & -0.322 \\tabularnewline\n",
      "151.170 & -0.322 & 0.0 & -0.263 & 0.0 & -0.363 & 0.032 & -0.294 & 0.282 & -0.0 & 0.168 & 0.0 & -0.168 & -0.0 & -0.282 & -0.294 & -0.032 & -0.363 & -0.0 & -0.263 & -0.0 & -0.322 \\tabularnewline\n",
      "192.670 & -0.198 & 0.0 & 0.071 & -0.0 & -0.167 & 0.268 & -0.488 & 0.299 & 0.0 & 0.169 & 0.0 & 0.169 & -0.0 & 0.299 & 0.488 & 0.268 & 0.167 & -0.0 & -0.071 & 0.0 & 0.198 \\tabularnewline\n",
      "192.680 & -0.198 & -0.0 & -0.071 & 0.0 & 0.167 & 0.268 & 0.488 & 0.299 & 0.0 & 0.169 & -0.0 & -0.169 & 0.0 & -0.299 & 0.488 & -0.268 & 0.167 & -0.0 & -0.071 & 0.0 & -0.198 \\tabularnewline\n",
      "243.560 & -0.0 & -0.083 & -0.0 & 0.657 & -0.0 & -0.0 & -0.0 & -0.0 & 0.055 & 0.0 & -0.342 & -0.0 & 0.055 & 0.0 & -0.0 & 0.0 & -0.0 & -0.657 & -0.0 & 0.083 & -0.0 \\tabularnewline\n",
      "267.810 & 0.0 & 0.461 & -0.0 & -0.406 & 0.0 & -0.0 & 0.0 & -0.0 & 0.35 & -0.0 & 0.0 & -0.0 & -0.35 & -0.0 & -0.0 & -0.0 & -0.0 & -0.406 & 0.0 & 0.461 & -0.0 \\tabularnewline\n",
      "281.410 & -0.143 & 0.0 & 0.437 & 0.0 & -0.115 & -0.233 & -0.13 & -0.393 & 0.0 & 0.223 & 0.0 & 0.223 & -0.0 & -0.393 & 0.13 & -0.233 & 0.115 & 0.0 & -0.437 & 0.0 & 0.143 \\tabularnewline\n",
      "281.410 & 0.143 & -0.0 & 0.437 & 0.0 & -0.115 & 0.233 & -0.13 & 0.393 & 0.0 & -0.223 & 0.0 & 0.223 & 0.0 & -0.393 & -0.13 & -0.233 & -0.115 & -0.0 & 0.437 & 0.0 & 0.143 \\tabularnewline\n",
      "285.440 & 0.0 & 0.428 & 0.0 & 0.024 & -0.0 & 0.0 & -0.0 & 0.0 & -0.525 & -0.0 & -0.284 & 0.0 & -0.525 & -0.0 & -0.0 & -0.0 & -0.0 & -0.024 & 0.0 & -0.428 & 0.0 \\tabularnewline\n",
      "365.070 & -0.142 & -0.0 & 0.2 & 0.0 & 0.459 & -0.15 & -0.296 & 0.135 & -0.0 & 0.317 & 0.0 & -0.317 & -0.0 & -0.135 & -0.296 & 0.15 & 0.459 & -0.0 & 0.2 & 0.0 & -0.142 \\tabularnewline\n",
      "365.080 & 0.142 & -0.0 & 0.2 & 0.0 & 0.459 & 0.15 & -0.296 & -0.135 & 0.0 & -0.317 & 0.0 & -0.317 & -0.0 & -0.135 & 0.296 & 0.15 & -0.459 & 0.0 & -0.2 & -0.0 & -0.142 \\tabularnewline\n",
      "370.350 & -0.0 & -0.148 & -0.0 & 0.348 & -0.0 & -0.0 & 0.0 & 0.0 & 0.598 & 0.0 & 0.0 & 0.0 & -0.598 & 0.0 & -0.0 & -0.0 & 0.0 & 0.348 & 0.0 & -0.148 & 0.0 \\tabularnewline\n",
      "454.230 & -0.037 & -0.0 & -0.237 & 0.0 & 0.237 & -0.532 & -0.265 & 0.145 & 0.0 & 0.11 & 0.0 & 0.11 & -0.0 & 0.145 & 0.265 & -0.532 & -0.237 & 0.0 & 0.237 & -0.0 & 0.037 \\tabularnewline\n",
      "454.230 & 0.037 & -0.0 & -0.237 & 0.0 & 0.237 & 0.532 & -0.265 & -0.145 & -0.0 & -0.11 & 0.0 & 0.11 & -0.0 & 0.145 & -0.265 & -0.532 & 0.237 & -0.0 & -0.237 & 0.0 & 0.037 \\tabularnewline\n",
      "512.820 & 0.108 & -0.0 & 0.337 & 0.0 & -0.236 & -0.259 & 0.023 & 0.339 & 0.0 & -0.37 & 0.0 & -0.37 & -0.0 & 0.339 & -0.023 & -0.259 & 0.236 & 0.0 & -0.337 & -0.0 & -0.108 \\tabularnewline\n",
      "512.820 & 0.108 & -0.001 & -0.337 & 0.0 & 0.236 & -0.259 & -0.023 & 0.339 & -0.001 & -0.37 & 0.001 & 0.37 & -0.001 & -0.339 & -0.023 & 0.259 & 0.236 & -0.0 & -0.337 & 0.001 & 0.108 \\tabularnewline\n",
      "513.840 & -0.0 & -0.301 & 0.001 & 0.165 & -0.0 & 0.0 & 0.0 & -0.001 & -0.414 & 0.001 & 0.649 & -0.001 & -0.414 & 0.001 & 0.0 & -0.0 & -0.0 & -0.165 & 0.001 & 0.301 & -0.0 \\tabularnewline\n",
      "\\end{tabular}\\end{ruledtabular}\n",
      "\\label{flo:Eigenvectors}\n",
      "\\end{landscape}\n",
      "\\end{table*}\n"
     ]
    }
   ],
   "source": [
    "NiTet.printLaTexEigenvectors()"
   ]
  },
  {
   "cell_type": "code",
   "execution_count": 4,
   "metadata": {},
   "outputs": [
    {
     "name": "stdout",
     "output_type": "stream",
     "text": [
      "\\begin{table*}\n",
      "\\begin{landscape}\n",
      "\\centering\n",
      "\\caption{Eigenvectors and Eigenvalues... $|L,S\\rangle$}\n",
      "\\begin{ruledtabular}\n",
      "\\begin{tabular}{c|ccccccccccccccccccccc}\n",
      "E (meV) &$|$-3,-1$\\rangle$ & $|$-3,0$\\rangle$ & $|$-3,1$\\rangle$ & $|$-2,-1$\\rangle$ & $|$-2,0$\\rangle$ & $|$-2,1$\\rangle$ & $|$-1,-1$\\rangle$ & $|$-1,0$\\rangle$ & $|$-1,1$\\rangle$ & $|$0,-1$\\rangle$ & $|$0,0$\\rangle$ & $|$0,1$\\rangle$ & $|$1,-1$\\rangle$ & $|$1,0$\\rangle$ & $|$1,1$\\rangle$ & $|$2,-1$\\rangle$ & $|$2,0$\\rangle$ & $|$2,1$\\rangle$ & $|$3,-1$\\rangle$ & $|$3,0$\\rangle$ & $|$3,1$\\rangle$ \\tabularnewline\n",
      " \\hline \n",
      "0.000 & 0.0 & -0.346 & -0.0 & -0.547 & 0.0 & 0.0 & 0.0 & 0.0 & -0.18 & 0.0 & -0.31 & -0.0 & -0.18 & -0.0 & 0.0 & -0.0 & 0.0 & 0.547 & -0.0 & 0.346 & 0.0 \\tabularnewline\n",
      "32.850 & 0.0 & -0.198 & 0.0 & -0.664 & 0.0 & 0.0 & 0.0 & 0.0 & 0.141 & 0.0 & 0.0 & 0.0 & -0.141 & 0.0 & -0.0 & 0.0 & -0.0 & -0.664 & -0.0 & -0.198 & -0.0 \\tabularnewline\n",
      "37.810 & 0.476 & 0.0 & -0.211 & 0.0 & -0.321 & 0.045 & -0.084 & 0.174 & 0.0 & 0.294 & 0.0 & -0.294 & 0.0 & -0.174 & -0.084 & -0.045 & -0.321 & -0.0 & -0.211 & -0.0 & 0.476 \\tabularnewline\n",
      "37.810 & 0.476 & 0.0 & 0.211 & 0.0 & 0.321 & 0.045 & 0.084 & 0.174 & -0.0 & 0.294 & 0.0 & 0.294 & 0.0 & 0.174 & -0.084 & 0.045 & -0.321 & 0.0 & -0.211 & 0.0 & -0.476 \\tabularnewline\n",
      "92.830 & 0.378 & 0.0 & -0.058 & -0.0 & -0.53 & 0.069 & -0.217 & -0.091 & -0.0 & 0.114 & 0.0 & 0.114 & 0.0 & -0.091 & 0.217 & 0.069 & 0.53 & -0.0 & 0.058 & 0.0 & -0.378 \\tabularnewline\n",
      "92.830 & -0.378 & -0.0 & -0.058 & -0.0 & -0.53 & -0.069 & -0.217 & 0.091 & -0.0 & -0.114 & -0.0 & 0.114 & -0.0 & -0.091 & -0.217 & 0.069 & -0.53 & 0.0 & -0.058 & 0.0 & -0.378 \\tabularnewline\n",
      "151.390 & 0.0 & 0.45 & 0.0 & -0.431 & 0.0 & -0.0 & -0.0 & -0.0 & 0.04 & -0.0 & 0.468 & 0.0 & 0.04 & 0.0 & -0.0 & 0.0 & 0.0 & 0.431 & 0.0 & -0.45 & 0.0 \\tabularnewline\n",
      "157.600 & 0.144 & -0.0 & 0.018 & 0.0 & 0.034 & -0.59 & -0.252 & -0.258 & 0.0 & -0.01 & -0.0 & 0.01 & 0.0 & 0.258 & -0.252 & 0.59 & 0.034 & -0.0 & 0.018 & 0.0 & 0.144 \\tabularnewline\n",
      "157.600 & 0.144 & 0.0 & -0.018 & 0.0 & -0.034 & -0.59 & 0.252 & -0.258 & 0.0 & -0.01 & 0.0 & -0.01 & -0.0 & -0.258 & -0.252 & -0.59 & 0.034 & 0.0 & 0.018 & 0.0 & -0.144 \\tabularnewline\n",
      "284.190 & 0.0 & -0.675 & -0.0 & 0.178 & -0.0 & -0.0 & -0.0 & 0.0 & -0.109 & 0.0 & 0.0 & 0.0 & 0.109 & 0.0 & 0.0 & -0.0 & 0.0 & 0.178 & 0.0 & -0.675 & -0.0 \\tabularnewline\n",
      "320.140 & 0.267 & -0.0 & -0.541 & 0.0 & 0.157 & 0.142 & 0.137 & -0.014 & 0.0 & -0.268 & -0.0 & -0.268 & -0.0 & -0.014 & -0.137 & 0.142 & -0.157 & 0.0 & 0.541 & -0.0 & -0.267 \\tabularnewline\n",
      "320.140 & -0.267 & -0.0 & -0.541 & -0.0 & 0.157 & -0.142 & 0.137 & 0.014 & 0.0 & 0.268 & 0.0 & -0.268 & 0.0 & -0.014 & 0.137 & 0.142 & 0.157 & 0.0 & -0.541 & 0.0 & -0.267 \\tabularnewline\n",
      "393.150 & -0.0 & -0.275 & 0.0 & -0.099 & 0.0 & 0.0 & -0.0 & 0.0 & 0.621 & 0.0 & 0.241 & -0.0 & 0.621 & -0.0 & -0.0 & -0.0 & 0.0 & 0.099 & 0.0 & 0.275 & -0.0 \\tabularnewline\n",
      "398.150 & -0.082 & -0.0 & -0.051 & 0.0 & -0.291 & 0.053 & 0.506 & 0.364 & 0.0 & 0.12 & -0.0 & 0.12 & -0.0 & 0.364 & -0.506 & 0.053 & 0.291 & 0.0 & 0.051 & -0.0 & 0.082 \\tabularnewline\n",
      "398.160 & -0.082 & 0.0 & 0.051 & 0.0 & 0.291 & 0.053 & -0.506 & 0.364 & -0.0 & 0.12 & -0.0 & -0.12 & -0.0 & -0.364 & -0.506 & -0.053 & 0.291 & -0.0 & 0.051 & -0.0 & -0.082 \\tabularnewline\n",
      "430.810 & -0.029 & 0.0 & 0.218 & 0.0 & -0.021 & -0.347 & 0.327 & 0.471 & -0.0 & 0.047 & 0.0 & -0.047 & -0.0 & -0.471 & 0.327 & 0.347 & -0.021 & -0.0 & 0.218 & -0.0 & -0.029 \\tabularnewline\n",
      "430.810 & -0.029 & -0.0 & -0.218 & 0.0 & 0.021 & -0.347 & -0.327 & 0.471 & 0.0 & 0.047 & 0.0 & 0.047 & -0.0 & 0.471 & 0.327 & -0.347 & -0.021 & 0.0 & 0.218 & -0.0 & 0.029 \\tabularnewline\n",
      "438.130 & -0.0 & 0.067 & -0.0 & -0.166 & 0.0 & -0.0 & -0.0 & 0.0 & -0.684 & 0.0 & 0.0 & 0.0 & 0.684 & 0.0 & 0.0 & -0.0 & -0.0 & -0.166 & 0.0 & 0.067 & 0.0 \\tabularnewline\n",
      "696.360 & -0.176 & -0.0 & 0.33 & 0.0 & -0.074 & 0.037 & 0.01 & -0.202 & -0.0 & 0.558 & 0.0 & -0.558 & -0.0 & 0.202 & 0.01 & -0.037 & -0.074 & -0.0 & 0.33 & 0.0 & -0.176 \\tabularnewline\n",
      "696.360 & -0.176 & -0.0 & -0.33 & 0.0 & 0.074 & 0.037 & -0.01 & -0.202 & 0.0 & 0.558 & -0.0 & 0.558 & -0.0 & -0.202 & 0.01 & 0.037 & -0.074 & 0.0 & 0.33 & -0.0 & 0.176 \\tabularnewline\n",
      "713.490 & -0.0 & 0.319 & 0.0 & -0.071 & -0.0 & 0.0 & 0.0 & -0.0 & 0.283 & 0.0 & -0.791 & -0.0 & 0.283 & 0.0 & 0.0 & -0.0 & -0.0 & 0.071 & 0.0 & -0.319 & -0.0 \\tabularnewline\n",
      "\\end{tabular}\\end{ruledtabular}\n",
      "\\label{flo:Eigenvectors}\n",
      "\\end{landscape}\n",
      "\\end{table*}\n"
     ]
    }
   ],
   "source": [
    "NiOct.printLaTexEigenvectors()"
   ]
  },
  {
   "cell_type": "markdown",
   "metadata": {},
   "source": [
    "# Re-calculate in the weak-coupling scheme:\n",
    "\n",
    "$$B_{n}^{m}=-\\gamma_{nm}|e|C_{nm}\\left\\langle r^{n}\\right\\rangle \\theta_{n}$$,\n",
    "so \n",
    "$$B_{n}^{m}`/\\theta_{n}`=-\\gamma_{nm}|e|C_{nm}\\left\\langle r^{n}\\right\\rangle = B_{n}^{m}/\\theta_{n}$$\n",
    "$$B_{n}^{m}`/\\theta_{n}`= B_{n}^{m}/\\theta_{n}$$\n",
    "\n",
    "Moving from the $L,S$ basis to the $l$ basis, we assume that $S=0$ and $L=l$, and recalculate $\\theta$"
   ]
  },
  {
   "cell_type": "code",
   "execution_count": 5,
   "metadata": {},
   "outputs": [
    {
     "name": "stdout",
     "output_type": "stream",
     "text": [
      "\n",
      " Eigenvalues \t Eigenvectors\n",
      "\t\t------------------------------------------\n",
      "0.00000 \t|  [ 0.468 -0.53   0.    -0.53  -0.468]  |\n",
      "0.00959 \t|  [-0.468 -0.53   0.     0.53  -0.468]  |\n",
      "3780.48290 \t|  [ 0. -0.  1.  0.  0.]  |\n",
      "4690.26574 \t|  [-0.53  -0.468  0.    -0.468  0.53 ]  |\n",
      "4690.33707 \t|  [ 0.53  -0.468 -0.     0.468  0.53 ]  |\n",
      "\t\t------------------------------------------\n",
      "\n",
      "\n",
      " Eigenvalues \t Eigenvectors\n",
      "\t\t------------------------------------------\n",
      "0.00000 \t|  [ 0.599 -0.376  0.    -0.376 -0.599]  |\n",
      "0.00902 \t|  [ 0.599  0.376  0.    -0.376  0.599]  |\n",
      "45.96222 \t|  [-0. -0.  1.  0. -0.]  |\n",
      "7196.91729 \t|  [-0.376  0.599 -0.    -0.599 -0.376]  |\n",
      "7196.94337 \t|  [-0.376 -0.599  0.    -0.599  0.376]  |\n",
      "\t\t------------------------------------------\n",
      "\n"
     ]
    }
   ],
   "source": [
    "#### Scale CEF paramters \n",
    "\n",
    "NiLigOct.B\n",
    "\n",
    "alphaprime = cef.PFalpha(2,0,2) / cef.PFalpha(3,1,2)\n",
    "betaprime = cef.PFbeta(2,0,2) / cef.PFbeta(3,1,2)\n",
    "\n",
    "ScaledOctB = NiLigOct.B * alphaprime\n",
    "ScaledOctB[3:] = NiLigOct.B[3:] * betaprime\n",
    "\n",
    "ScaledTetB = NiLigTet.B * alphaprime\n",
    "ScaledTetB[3:] = NiLigTet.B[3:] * betaprime\n",
    "\n",
    "\n",
    "#### Re-build Hamiltonian\n",
    "\n",
    "nn = [2,2,2,4,4,4,4,4]\n",
    "mm = [0,1,2,0,1,2,3,4]\n",
    "Ni_O = []\n",
    "for i in range(len(nn)):\n",
    "\tNi_O.append(  cef.StevensOp(2, nn[i],mm[i])  )\n",
    "\n",
    "NiOct = cef.CFLevels(Ni_O, ScaledOctB)\n",
    "NiTet = cef.CFLevels(Ni_O, ScaledTetB)\n",
    "\n",
    "\n",
    "#### Diagonalize Hamiltonian\n",
    "\n",
    "NiTet.diagonalize()\n",
    "#print(np.around(NiTet.eigenvalues,1))\n",
    "NiTet.printEigenvectors()\n",
    "# NiOct.printLaTexEigenvectors()    ### uncomment this line to print LaTex table\n",
    "\n",
    "NiOct.diagonalize()\n",
    "#print(np.around(NiOct.eigenvalues,1))\n",
    "NiOct.printEigenvectors()\n",
    "# NiOct.printLaTexEigenvectors()    ### uncomment this line to print LaTex table"
   ]
  }
 ],
 "metadata": {
  "kernelspec": {
   "display_name": "Python 3",
   "language": "python",
   "name": "python3"
  },
  "language_info": {
   "codemirror_mode": {
    "name": "ipython",
    "version": 3
   },
   "file_extension": ".py",
   "mimetype": "text/x-python",
   "name": "python",
   "nbconvert_exporter": "python",
   "pygments_lexer": "ipython3",
   "version": "3.6.3"
  }
 },
 "nbformat": 4,
 "nbformat_minor": 2
}
