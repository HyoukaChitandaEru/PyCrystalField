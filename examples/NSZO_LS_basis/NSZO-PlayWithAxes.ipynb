{
 "cells": [
  {
   "cell_type": "markdown",
   "metadata": {},
   "source": [
    "# Build a point charge model of $\\rm Nd_3Sb_3Zn_2O_{14}$ from cif file in the intermediate coupling ($LS$) basis\n",
    "\n",
    "This example is from Scheie, PRB (2018)  https://doi.org/10.1103/PhysRevB.98.134401"
   ]
  },
  {
   "cell_type": "code",
   "execution_count": 1,
   "metadata": {},
   "outputs": [],
   "source": [
    "import PyCrystalField as cef"
   ]
  },
  {
   "cell_type": "code",
   "execution_count": 2,
   "metadata": {},
   "outputs": [
    {
     "name": "stdout",
     "output_type": "stream",
     "text": [
      "Importing atoms\n",
      "   81 atoms added\n",
      ".cif import complete.\n",
      "Central ion: Nd3+ at [0.5, 0.0, 0.0]\n",
      "   Found 2 fold axis about [1. 0. 0.]\n",
      "   No mirror plane found orthogonal to a rotation axis.\n",
      "      Found mirror plane at [1. 0. 0.] \n",
      "     Using [ 0.          0.         -2.77648634] as the Z axis and [1. 0. 0.] as the Y axis.\n",
      " Nearest ligand: O2-\n",
      "   Identified 8 O2- ligands.\n",
      "\n",
      "\u001b[44m  Axes for point charge model (in ABC space):\n",
      "        X axis = [0.5 1.  0. ] \n",
      "        Y axis = [1. 0. 0.] \n",
      "        Z axis = [ 0.  0. -1.] \u001b[0m\n",
      "\n",
      "   Creating a point charge model...\n",
      "B_2 0  =  -0.03700979\n",
      "B_2 1  =  0.0980279\n",
      "B_2 2  =  0.28487005\n",
      "B_4 0  =  -0.0022596\n",
      "B_4 1  =  0.02954474\n",
      "B_4 2  =  -0.00385843\n",
      "B_4 3  =  -0.2219399\n",
      "B_4 4  =  -0.02208954\n",
      "B_6 0  =  -0.00020485\n",
      "B_6 1  =  0.0005211\n",
      "B_6 2  =  -5.001e-05\n",
      "B_6 3  =  0.00233179\n",
      "B_6 4  =  -0.00039287\n",
      "B_6 5  =  0.00056073\n",
      "B_6 6  =  -0.00177005\n",
      "\n",
      " Eigenvalues \t Eigenvectors\n",
      "\t\t-----------------------------------------------------------------------------\n",
      "0.00000 \t|  [ 0.032 -0.23  -0.079 -0.065  0.626  0.065 -0.274  0.516  0.256 -0.364]  |\n",
      "0.00000 \t|  [ 0.364  0.256 -0.516 -0.274 -0.065  0.626  0.065 -0.079  0.23   0.032]  |\n",
      "1.98934 \t|  [ 0.59   0.113  0.469 -0.456  0.062 -0.21   0.363  0.177 -0.007  0.002]  |\n",
      "1.98934 \t|  [ 0.002  0.007  0.177 -0.363 -0.21  -0.062 -0.456 -0.469  0.113 -0.59 ]  |\n",
      "18.02555 \t|  [ 0.37   0.18  -0.479  0.039 -0.009 -0.408 -0.29   0.114 -0.571 -0.093]  |\n",
      "18.02555 \t|  [ 0.093 -0.571 -0.114 -0.29   0.408 -0.009 -0.039 -0.479 -0.18   0.37 ]  |\n",
      "30.30832 \t|  [ 0.581 -0.062  0.198  0.665  0.074  0.045 -0.203 -0.256  0.25   0.029]  |\n",
      "30.30832 \t|  [-0.029  0.25   0.256 -0.203 -0.045  0.074 -0.665  0.198  0.062  0.581]  |\n",
      "68.43889 \t|  [ 0.     0.018  0.357  0.1    0.119  0.607 -0.039  0.034 -0.666 -0.185]  |\n",
      "68.43889 \t|  [ 0.185 -0.666 -0.034 -0.039 -0.607  0.119 -0.1    0.357 -0.018  0.   ]  |\n",
      "\t\t-----------------------------------------------------------------------------\n",
      "\n"
     ]
    }
   ],
   "source": [
    "########### Import CIF file in J basis\n",
    "\n",
    "NdLig, Nd = cef.importCIF('Nd3Sb3Zn2O14.cif','Nd1')\n",
    "# We specify the Z axis as was done in Scheie, PRB (2018)  https://doi.org/10.1103/PhysRevB.98.134401\n",
    "\n",
    "Nd.printEigenvectors()"
   ]
  },
  {
   "cell_type": "code",
   "execution_count": 26,
   "metadata": {
    "scrolled": false
   },
   "outputs": [
    {
     "name": "stdout",
     "output_type": "stream",
     "text": [
      "Importing atoms\n",
      "   81 atoms added\n",
      ".cif import complete.\n",
      "Central ion: Nd3+ at [0.5, 0.0, 0.0]\n",
      "Given Z axis: [1 0 0]\n",
      "   \u001b[43m WARNING: No mirror plane found orthogonal to the given Z axis axis.\n",
      "      User should specify the Y axis, but PyCrystalField will make a guess... \u001b[0m\n",
      " Nearest ligand: O2-\n",
      "   Identified 8 O2- ligands.\n",
      "\n",
      "\u001b[44m  Axes for point charge model (in ABC space):\n",
      "        X axis = [ 0.  0. -1.] \n",
      "        Y axis = [0.5 1.  0. ] \n",
      "        Z axis = [1. 0. 0.] \u001b[0m\n",
      "\n",
      "     \u001b[43m WARNING: there is no mirror symmetry along the Y axis, so \n",
      "\u001b[0m     \u001b[43m   we must inlcude the -m terms, and the eigenkets will be complex.\u001b[0m\n",
      "\n",
      "   Creating a point charge model...\n",
      "B_2 -2  =  0.04901395\n",
      "B_2 -1  =  0.00062383\n",
      "B_2 0  =  -0.12393013\n",
      "B_2 1  =  -0.00207647\n",
      "B_2 2  =  -0.19794971\n",
      "B_4 -4  =  0.05359414\n",
      "B_4 -3  =  2.499e-05\n",
      "B_4 -2  =  0.04809879\n",
      "B_4 -1  =  1.99e-05\n",
      "B_4 0  =  -0.00409085\n",
      "B_4 1  =  -4.409e-05\n",
      "B_4 2  =  -0.00346656\n",
      "B_4 3  =  1.664e-05\n",
      "B_4 4  =  -0.0092708\n",
      "B_6 -6  =  -0.00024665\n",
      "B_6 -5  =  -7.1e-07\n",
      "B_6 -4  =  -0.00099974\n",
      "B_6 -3  =  2.21e-06\n",
      "B_6 -2  =  0.00082485\n",
      "B_6 -1  =  2.2e-07\n",
      "B_6 0  =  0.00020232\n",
      "B_6 1  =  4e-08\n",
      "B_6 2  =  6.96e-05\n",
      "B_6 3  =  -3.3e-07\n",
      "B_6 4  =  0.00082865\n",
      "B_6 5  =  1.65e-06\n",
      "B_6 6  =  -0.00150691\n",
      "\n",
      " Eigenvalues \t Eigenvectors\n",
      "\t\t-----------------------------------------------------------------------------\n",
      "0.00000 \t|  [-0.559  0.003  0.027  0.001  0.822  0.001 -0.061  0.001  0.089  0.   ]  |\n",
      "0.00000 \t|  [ 0.    -0.089  0.001  0.061  0.001 -0.822  0.001 -0.027  0.003  0.559]  |\n",
      "3.72111 \t|  [ 0.    -0.689 -0.    -0.369  0.003 -0.257 -0.    -0.33  -0.002 -0.463]  |\n",
      "3.72111 \t|  [-0.463  0.002 -0.33   0.    -0.257 -0.003 -0.369  0.    -0.689  0.   ]  |\n",
      "9.63297 \t|  [ 0.    -0.614 -0.001  0.115  0.001  0.489 -0.001 -0.075 -0.003  0.604]  |\n",
      "9.63297 \t|  [ 0.604  0.003 -0.075  0.001  0.489 -0.001  0.115  0.001 -0.614  0.   ]  |\n",
      "23.06810 \t|  [ 0.     0.301  0.    -0.85   0.     0.135  0.001 -0.245 -0.001  0.328]  |\n",
      "23.06810 \t|  [ 0.328  0.001 -0.245 -0.001  0.135 -0.    -0.85  -0.     0.301  0.   ]  |\n",
      "35.56706 \t|  [ 0.    -0.222 -0.012 -0.352  0.001 -0.041  0.005  0.908  0.003 -0.013]  |\n",
      "35.56706 \t|  [ 0.013  0.003 -0.908  0.005  0.041  0.001  0.352 -0.012  0.222  0.   ]  |\n",
      "\t\t-----------------------------------------------------------------------------\n",
      "\n"
     ]
    }
   ],
   "source": [
    "########### Import CIF file in J basis\n",
    "\n",
    "NdLig, Nd = cef.importCIF('Nd3Sb3Zn2O14.cif','Nd1', Zaxis=[1, 0, 0])\n",
    "# We specify the Z axis as was done in Scheie, PRB (2018)  https://doi.org/10.1103/PhysRevB.98.134401\n",
    "\n",
    "Nd.printEigenvectors()"
   ]
  },
  {
   "cell_type": "code",
   "execution_count": null,
   "metadata": {},
   "outputs": [],
   "source": []
  }
 ],
 "metadata": {
  "kernelspec": {
   "display_name": "Python 3",
   "language": "python",
   "name": "python3"
  },
  "language_info": {
   "codemirror_mode": {
    "name": "ipython",
    "version": 3
   },
   "file_extension": ".py",
   "mimetype": "text/x-python",
   "name": "python",
   "nbconvert_exporter": "python",
   "pygments_lexer": "ipython3",
   "version": "3.7.3"
  }
 },
 "nbformat": 4,
 "nbformat_minor": 2
}
